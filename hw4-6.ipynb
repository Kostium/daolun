{
 "cells": [
  {
   "cell_type": "code",
   "execution_count": 8,
   "id": "ba2805d7-b77c-49e2-8646-98e373bea80e",
   "metadata": {},
   "outputs": [
    {
     "name": "stdout",
     "output_type": "stream",
     "text": [
      "1.4142135623746899\n"
     ]
    }
   ],
   "source": [
    "def Square_root_1(k, epsilon):\n",
    "    j = k\n",
    "    while abs(j * j - k) >= epsilon:\n",
    "        j = j - (((j * j) - k) / (j * 2))\n",
    "    return j\n",
    "print(Square_root_1(2, 0.000000001))"
   ]
  },
  {
   "cell_type": "code",
   "execution_count": 1,
   "id": "c169ff2c-9e69-4430-909e-2f0de960bce6",
   "metadata": {},
   "outputs": [
    {
     "name": "stdout",
     "output_type": "stream",
     "text": [
      "1.4142135623842478\n"
     ]
    }
   ],
   "source": [
    "def Square_root_2(x, epsilon):\n",
    "    m_min = 0.0\n",
    "    m_max = max(1.0, x)\n",
    "    g = (m_max + m_min) / 2.0\n",
    "    while abs(g * g - x) >= epsilon:\n",
    "        if g * g < x:\n",
    "            m_min = g\n",
    "        else:\n",
    "            m_max = g\n",
    "        g = (m_min + m_max) / 2.0\n",
    "    return g\n",
    "print(Square_root_2(2, 0.000000001))"
   ]
  },
  {
   "cell_type": "code",
   "execution_count": 2,
   "id": "c9cf49c3-e08b-45ef-a233-f58c8e07a713",
   "metadata": {},
   "outputs": [
    {
     "name": "stdout",
     "output_type": "stream",
     "text": [
      "1.4141800000027134\n"
     ]
    }
   ],
   "source": [
    "def Square_root_3(x):\n",
    "    c=x\n",
    "    l=0\n",
    "    g=0\n",
    "    for j in range(0,c+1):\n",
    "        if(j*j>c and g==0):\n",
    "            g=j-1\n",
    "    while abs(g * g - c)>0.0001:\n",
    "        g=g+0.00001\n",
    "    return g\n",
    "print(Square_root_3(2))"
   ]
  },
  {
   "cell_type": "code",
   "execution_count": null,
   "id": "861ca859-3850-4fc2-b0cf-0e3281a23a62",
   "metadata": {},
   "outputs": [],
   "source": []
  }
 ],
 "metadata": {
  "kernelspec": {
   "display_name": "Python 3 (ipykernel)",
   "language": "python",
   "name": "python3"
  },
  "language_info": {
   "codemirror_mode": {
    "name": "ipython",
    "version": 3
   },
   "file_extension": ".py",
   "mimetype": "text/x-python",
   "name": "python",
   "nbconvert_exporter": "python",
   "pygments_lexer": "ipython3",
   "version": "3.9.12"
  }
 },
 "nbformat": 4,
 "nbformat_minor": 5
}
