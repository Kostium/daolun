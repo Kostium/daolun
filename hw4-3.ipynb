{
 "cells": [
  {
   "cell_type": "code",
   "execution_count": 7,
   "id": "55b74de9-2ef3-4174-895f-72ad3ae2b321",
   "metadata": {},
   "outputs": [
    {
     "name": "stdin",
     "output_type": "stream",
     "text": [
      " abccccda\n"
     ]
    },
    {
     "name": "stdout",
     "output_type": "stream",
     "text": [
      "4\n"
     ]
    }
   ],
   "source": [
    "S=input()\n",
    "lens=len(S)\n",
    "i=0\n",
    "max=1\n",
    "sum=1\n",
    "while i<lens-1:\n",
    "    if S[i]==S[i+1]:\n",
    "       sum=sum+1\n",
    "       i=i+1\n",
    "       if sum>max:\n",
    "          max=sum\n",
    "    else:\n",
    "        i=i+1\n",
    "        sum=1\n",
    "print(max)"
   ]
  },
  {
   "cell_type": "code",
   "execution_count": null,
   "id": "7a50eae2-1b76-43df-9d84-da8d3ae58242",
   "metadata": {},
   "outputs": [],
   "source": []
  }
 ],
 "metadata": {
  "kernelspec": {
   "display_name": "Python 3 (ipykernel)",
   "language": "python",
   "name": "python3"
  },
  "language_info": {
   "codemirror_mode": {
    "name": "ipython",
    "version": 3
   },
   "file_extension": ".py",
   "mimetype": "text/x-python",
   "name": "python",
   "nbconvert_exporter": "python",
   "pygments_lexer": "ipython3",
   "version": "3.9.12"
  }
 },
 "nbformat": 4,
 "nbformat_minor": 5
}
