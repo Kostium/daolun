{
 "cells": [
  {
   "cell_type": "code",
   "execution_count": 1,
   "id": "7952305b-ff3b-4759-94c8-ce4845baac7f",
   "metadata": {},
   "outputs": [
    {
     "name": "stdout",
     "output_type": "stream",
     "text": [
      "0.57752\n"
     ]
    }
   ],
   "source": [
    "import random\n",
    "import math\n",
    "S=2\n",
    "N=100000\n",
    "C=0.0\n",
    "for i in range(N):\n",
    "    x=random.uniform(0.0,1.0)\n",
    "    y=random.uniform(0.0,2.0)\n",
    "    result=math.pow(x,2)+math.pow(x,3)\n",
    "    if(result>=y):\n",
    "        C+=1\n",
    "print(C/N*S)"
   ]
  },
  {
   "cell_type": "code",
   "execution_count": null,
   "id": "d8af27bf-2aec-470a-9ae3-73e23b842905",
   "metadata": {},
   "outputs": [],
   "source": []
  },
  {
   "cell_type": "code",
   "execution_count": null,
   "id": "e53c2ea9-2d98-498e-8e42-66e3a1f7883d",
   "metadata": {},
   "outputs": [],
   "source": []
  }
 ],
 "metadata": {
  "kernelspec": {
   "display_name": "Python 3 (ipykernel)",
   "language": "python",
   "name": "python3"
  },
  "language_info": {
   "codemirror_mode": {
    "name": "ipython",
    "version": 3
   },
   "file_extension": ".py",
   "mimetype": "text/x-python",
   "name": "python",
   "nbconvert_exporter": "python",
   "pygments_lexer": "ipython3",
   "version": "3.9.12"
  }
 },
 "nbformat": 4,
 "nbformat_minor": 5
}
