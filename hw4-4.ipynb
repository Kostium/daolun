{
 "cells": [
  {
   "cell_type": "code",
   "execution_count": 3,
   "id": "c7389fbc-c8e8-405b-b5ef-dd3099d11e7d",
   "metadata": {},
   "outputs": [
    {
     "name": "stdin",
     "output_type": "stream",
     "text": [
      " 'Data Science and Engineering'\n"
     ]
    },
    {
     "name": "stdout",
     "output_type": "stream",
     "text": [
      "'DataScienceandEngineering'\n"
     ]
    }
   ],
   "source": [
    "s=input()\n",
    "print(s.replace(' ',''))"
   ]
  },
  {
   "cell_type": "code",
   "execution_count": null,
   "id": "4eefdb6e-7a85-4b71-a8ee-2802e5eaabca",
   "metadata": {},
   "outputs": [],
   "source": []
  }
 ],
 "metadata": {
  "kernelspec": {
   "display_name": "Python 3 (ipykernel)",
   "language": "python",
   "name": "python3"
  },
  "language_info": {
   "codemirror_mode": {
    "name": "ipython",
    "version": 3
   },
   "file_extension": ".py",
   "mimetype": "text/x-python",
   "name": "python",
   "nbconvert_exporter": "python",
   "pygments_lexer": "ipython3",
   "version": "3.9.12"
  }
 },
 "nbformat": 4,
 "nbformat_minor": 5
}
